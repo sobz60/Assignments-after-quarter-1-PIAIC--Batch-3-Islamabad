{
 "cells": [
  {
   "cell_type": "markdown",
   "metadata": {},
   "source": [
    "# 1. Area of Circle"
   ]
  },
  {
   "cell_type": "code",
   "execution_count": 1,
   "metadata": {},
   "outputs": [
    {
     "name": "stdout",
     "output_type": "stream",
     "text": [
      "Enter the value of radius r = 5.4\n",
      "Area of circle is:  91.64571428571429\n"
     ]
    }
   ],
   "source": [
    "def CA():\n",
    "    r = float(input(\"Enter the value of radius r = \"))\n",
    "    Area = 22/7 *r*r\n",
    "    print(\"Area of circle is: \", Area)\n",
    "CA()"
   ]
  },
  {
   "cell_type": "markdown",
   "metadata": {},
   "source": [
    "# 2. Type of Number"
   ]
  },
  {
   "cell_type": "code",
   "execution_count": 1,
   "metadata": {},
   "outputs": [
    {
     "name": "stdout",
     "output_type": "stream",
     "text": [
      "Enter any number a = -3\n",
      "Negative number entered\n"
     ]
    }
   ],
   "source": [
    "def Numbertype():\n",
    "    a = float(input(\"Enter any number a = \"))\n",
    "    if a >0:\n",
    "        print(\"Positive nuber entered\")\n",
    "    elif a <0:\n",
    "            print(\"Negative number entered\")\n",
    "    elif a==0:\n",
    "                print(\"Zero is entered\")\n",
    "Numbertype()\n",
    "    "
   ]
  },
  {
   "cell_type": "code",
   "execution_count": 3,
   "metadata": {},
   "outputs": [
    {
     "name": "stdout",
     "output_type": "stream",
     "text": [
      "Enter any number a = 6.5\n",
      "Positive nuber entered\n"
     ]
    }
   ],
   "source": [
    "def Numbertype():\n",
    "    a = float(input(\"Enter any number a = \"))\n",
    "    if a >0:\n",
    "        print(\"Positive nuber entered\")\n",
    "    elif a <0:\n",
    "            print(\"Negative number entered\")\n",
    "    elif a==0:\n",
    "                print(\"Zero is entered\")\n",
    "Numbertype()\n",
    "    "
   ]
  },
  {
   "cell_type": "code",
   "execution_count": 2,
   "metadata": {},
   "outputs": [
    {
     "name": "stdout",
     "output_type": "stream",
     "text": [
      "Enter any number a = 0\n",
      "Zero is entered\n"
     ]
    }
   ],
   "source": [
    "def Numbertype():\n",
    "    a = float(input(\"Enter any number a = \"))\n",
    "    if a >0:\n",
    "        print(\"Positive nuber entered\")\n",
    "    elif a <0:\n",
    "            print(\"Negative number entered\")\n",
    "    elif a==0:\n",
    "                print(\"Zero is entered\")\n",
    "Numbertype()\n",
    "    "
   ]
  },
  {
   "cell_type": "markdown",
   "metadata": {},
   "source": [
    "# 3. Divisibility Check of two numbers"
   ]
  },
  {
   "cell_type": "code",
   "execution_count": 2,
   "metadata": {},
   "outputs": [
    {
     "name": "stdout",
     "output_type": "stream",
     "text": [
      "Enter Numerator 8\n",
      "Enter denominator 4\n",
      "8 is divisible by 4\n"
     ]
    }
   ],
   "source": [
    "Numerator = int(input(\"Enter Numerator \"))\n",
    "Denominator = int(input(\"Enter denominator \"))\n",
    "if Numerator % Denominator ==0:\n",
    "    print(Numerator, \"is divisible by\", Denominator)\n",
    "elif Numerator%Denominator !=0:\n",
    "    print(Numerator, \"is not divisible by \", Denominator)"
   ]
  },
  {
   "cell_type": "code",
   "execution_count": 5,
   "metadata": {},
   "outputs": [
    {
     "name": "stdout",
     "output_type": "stream",
     "text": [
      "Enter Numerator 7\n",
      "Enter denominator 4\n",
      "7 is not divisible by  4\n"
     ]
    }
   ],
   "source": [
    "Numerator = int(input(\"Enter Numerator \"))\n",
    "Denominator = int(input(\"Enter denominator \"))\n",
    "if Numerator % Denominator ==0:\n",
    "    print(Numerator, \"is divisible by\", Denominator)\n",
    "elif Numerator%Denominator !=0:\n",
    "    print(Numerator, \"is not divisible by \", Denominator)"
   ]
  },
  {
   "cell_type": "markdown",
   "metadata": {},
   "source": [
    "# 4.Days Calculator"
   ]
  },
  {
   "cell_type": "code",
   "execution_count": 10,
   "metadata": {},
   "outputs": [
    {
     "name": "stdout",
     "output_type": "stream",
     "text": [
      "Enter 1st date: 24-06-2015\n",
      "Enter 2nd date:28-06-2015\n",
      "There are 4 days, 0:00:00 days in between 2015-06-28 00:00:00 & 2015-06-24 00:00:00\n"
     ]
    }
   ],
   "source": [
    "from dateutil import parser\n",
    "d1 = parser.parse(input(\"Enter 1st date: \"))\n",
    "d2 = parser.parse(input(\"Enter 2nd date:\"))\n",
    "diff = d2 - d1\n",
    "print(f'There are {diff} days in between {d2} & {d1}')"
   ]
  },
  {
   "cell_type": "code",
   "execution_count": 4,
   "metadata": {},
   "outputs": [
    {
     "name": "stdout",
     "output_type": "stream",
     "text": [
      "Enter a date of day 1(i.e. day/month/year)24/05/1998\n",
      "Enter a date of day (i.e. day/month/year)28/05/1998\n",
      "The difference between 1998-05-24 and 1998-05-28 is 4 days, 0:00:00\n"
     ]
    }
   ],
   "source": [
    "from datetime import datetime\n",
    "D1 = input('Enter a date of day 1(i.e. day/month/year)')\n",
    "Date1 = datetime.strptime(D1,'%d/%m/%Y').date()\n",
    "D2 = input('Enter a date of day (i.e. day/month/year)')\n",
    "Date2 = datetime.strptime(D2, '%d/%m/%Y').date()\n",
    "Diff = Date2 - Date1\n",
    "print(f'The difference between {Date1} and {Date2} is {Diff}')\n"
   ]
  },
  {
   "cell_type": "markdown",
   "metadata": {},
   "source": [
    "# 5.Calculate volume of a sphere"
   ]
  },
  {
   "cell_type": "code",
   "execution_count": 6,
   "metadata": {},
   "outputs": [
    {
     "name": "stdout",
     "output_type": "stream",
     "text": [
      "Enter the radius of sphere = 4.5\n",
      "Volume of sphere with radius   4.5 is  381.7035074111598\n"
     ]
    }
   ],
   "source": [
    "from math import pi\n",
    "r = float(input(\"Enter the radius of sphere = \"))\n",
    "V = 4/3 * pi * r**3\n",
    "print(\"Volume of sphere with radius  \" , r, \"is \", V)"
   ]
  },
  {
   "cell_type": "markdown",
   "metadata": {},
   "source": [
    "# 6.Copy String n times"
   ]
  },
  {
   "cell_type": "code",
   "execution_count": 7,
   "metadata": {},
   "outputs": [
    {
     "name": "stdout",
     "output_type": "stream",
     "text": [
      "Enter how many times you want to multiply a number= 4\n",
      "4 copies of Hi are HiHiHiHi\n"
     ]
    }
   ],
   "source": [
    "a = \"Hi\"\n",
    "n = int(input(\"Enter how many times you want to multiply a number= \"))\n",
    "print(f'{n} copies of {a} are {a*n}')"
   ]
  },
  {
   "cell_type": "markdown",
   "metadata": {},
   "source": [
    "# 7. Check number is even or odd"
   ]
  },
  {
   "cell_type": "code",
   "execution_count": 8,
   "metadata": {},
   "outputs": [
    {
     "name": "stdout",
     "output_type": "stream",
     "text": [
      "Enter the number5\n",
      "5 is not an even number\n"
     ]
    }
   ],
   "source": [
    "a = int(input(\"Enter the number\"))\n",
    "if a % 2 == 0:\n",
    "    print(f'{a} is an even number')\n",
    "else:\n",
    "    print(a, \"is not an even number\")\n"
   ]
  },
  {
   "cell_type": "code",
   "execution_count": 9,
   "metadata": {},
   "outputs": [
    {
     "name": "stdout",
     "output_type": "stream",
     "text": [
      "Enter the number4\n",
      "4 is an even number\n"
     ]
    }
   ],
   "source": [
    "a = int(input(\"Enter the number\"))\n",
    "if a % 2 == 0:\n",
    "    print(f'{a} is an even number')\n",
    "else:\n",
    "    print(a, \"is not an even number\")\n"
   ]
  },
  {
   "cell_type": "markdown",
   "metadata": {},
   "source": [
    "# 8. Vowel Tester"
   ]
  },
  {
   "cell_type": "code",
   "execution_count": 14,
   "metadata": {},
   "outputs": [
    {
     "name": "stdout",
     "output_type": "stream",
     "text": [
      "Enter the letter to check is Vowel or nota\n",
      "a is vowel\n"
     ]
    }
   ],
   "source": [
    "str = \"aeiou\"\n",
    "letter_to_check = input(\"Enter the letter to check is Vowel or not\").lower()\n",
    "if letter_to_check in str:\n",
    "    print(f'{letter_to_check} is vowel')\n",
    "else:\n",
    "    print(letter_to_check, \"is not Vowel\")\n",
    "    "
   ]
  },
  {
   "cell_type": "code",
   "execution_count": 15,
   "metadata": {},
   "outputs": [
    {
     "name": "stdout",
     "output_type": "stream",
     "text": [
      "Enter the letter to check is Vowel or notv\n",
      "v is not Vowel\n"
     ]
    }
   ],
   "source": [
    "str = \"aeiou\"\n",
    "letter_to_check = input(\"Enter the letter to check is Vowel or not\").lower()\n",
    "if letter_to_check in str:\n",
    "    print(f'{letter_to_check} is vowel')\n",
    "else:\n",
    "    print(letter_to_check, \"is not Vowel\")\n",
    "    "
   ]
  },
  {
   "cell_type": "markdown",
   "metadata": {},
   "source": [
    "# 9. Area of Triangle"
   ]
  },
  {
   "cell_type": "code",
   "execution_count": 16,
   "metadata": {},
   "outputs": [
    {
     "name": "stdout",
     "output_type": "stream",
     "text": [
      "Enter the length of base = 6\n",
      "Enter the length of height= 8\n",
      "Area of triangle with base  6.0 and Height 8.0 is  24.0\n"
     ]
    }
   ],
   "source": [
    "B = float(input(\"Enter the length of base = \"))\n",
    "H = float(input(\"Enter the length of height= \"))\n",
    "Area = 1/2 * B * H\n",
    "print(\"Area of triangle with base \" , B, \"and Height\", H, \"is \", Area)\n"
   ]
  },
  {
   "cell_type": "markdown",
   "metadata": {},
   "source": [
    "# 10. Calculate interest"
   ]
  },
  {
   "cell_type": "code",
   "execution_count": 21,
   "metadata": {},
   "outputs": [
    {
     "name": "stdout",
     "output_type": "stream",
     "text": [
      "Enter Principal amount =10000\n",
      "Enter interest rate = 0.1\n",
      "Enter number of years after which you want to check principal amount = 5\n",
      "After 5 years your principal amount of 10000 over interst rate of 0.1 will be 10050.100100050004\n"
     ]
    }
   ],
   "source": [
    "a = int(input(\"Enter Principal amount =\"))\n",
    "b = float(input(\"Enter interest rate = \"))\n",
    "c = int(input(\"Enter number of years after which you want to check principal amount = \"))\n",
    "Principal_Amount = a *(1 + b/100)**5\n",
    "print(f'After {c} years your principal amount of {a} over interst rate of {b} will be {Principal_Amount}')"
   ]
  },
  {
   "cell_type": "markdown",
   "metadata": {},
   "source": [
    "# 11. Euclidean Distance\n"
   ]
  },
  {
   "cell_type": "code",
   "execution_count": 22,
   "metadata": {},
   "outputs": [
    {
     "name": "stdout",
     "output_type": "stream",
     "text": [
      "Enter x coordinate of point1 x1 = 2\n",
      "Enter y coordinate of point1 y1 =  4\n",
      "Enter x coordinate of point2 x2= 6\n",
      "Enter y coordinate of point 2 y2= 5\n",
      "Distance between  (2.0, 4.0) and  (6.0, 5.0) is  4.123105625617661\n"
     ]
    }
   ],
   "source": [
    "x1 = float(input(\"Enter x coordinate of point1 x1 = \"))\n",
    "y1 = float(input(\"Enter y coordinate of point1 y1 =  \"))\n",
    "x2 = float(input(\"Enter x coordinate of point2 x2= \"))\n",
    "y2 = float(input(\"Enter y coordinate of point 2 y2= \"))\n",
    "P1 = (x1,y1)\n",
    "P2 = (x2,y2)\n",
    "X = (x2 - x1)**2\n",
    "Y = (y2 - y1)**2\n",
    "Distance = (Y + X)**0.5\n",
    "print(\"Distance between \", P1, \"and \" ,P2, \"is \", Distance )"
   ]
  },
  {
   "cell_type": "markdown",
   "metadata": {},
   "source": [
    "# 12. Feet to centimeter Convertor\n"
   ]
  },
  {
   "cell_type": "code",
   "execution_count": 23,
   "metadata": {},
   "outputs": [
    {
     "name": "stdout",
     "output_type": "stream",
     "text": [
      "Enter your height in feets = 5.2\n",
      "There are 158.53658536585365 centimeters in 5.2 feet\n"
     ]
    }
   ],
   "source": [
    "H = float(input(\"Enter your height in feets = \"))\n",
    "C = H/0.0328\n",
    "print(f'There are {C} centimeters in {H} feet')"
   ]
  },
  {
   "cell_type": "markdown",
   "metadata": {},
   "source": [
    "# 13. BMI Calculator"
   ]
  },
  {
   "cell_type": "code",
   "execution_count": 1,
   "metadata": {},
   "outputs": [
    {
     "name": "stdout",
     "output_type": "stream",
     "text": [
      "height in cm 150\n",
      "weight in Kgs68\n",
      "Your BMI is  30.22222222222222\n"
     ]
    }
   ],
   "source": [
    "H = float(input(\"height in cm \"))\n",
    "H1 = H/100\n",
    "W = float(input(\"weight in Kgs\"))\n",
    "BMI = W/(H1)**2\n",
    "print(\"Your BMI is \", BMI)"
   ]
  },
  {
   "cell_type": "markdown",
   "metadata": {},
   "source": [
    "# 14.  Sum of n Positive integers\n",
    "\n"
   ]
  },
  {
   "cell_type": "code",
   "execution_count": 5,
   "metadata": {},
   "outputs": [
    {
     "name": "stdout",
     "output_type": "stream",
     "text": [
      "Enter the interger = 5\n",
      "sum of 5 positive numbers is 15.0\n"
     ]
    }
   ],
   "source": [
    "num = int(input(\"Enter the interger = \"))\n",
    "sum_of_nums = num * (num + 1)/2\n",
    "print(f'sum of {num} positive numbers is {sum_of_nums}')\n"
   ]
  },
  {
   "cell_type": "markdown",
   "metadata": {},
   "source": [
    "# 15. Digits sum of a number"
   ]
  },
  {
   "cell_type": "code",
   "execution_count": 2,
   "metadata": {},
   "outputs": [
    {
     "name": "stdout",
     "output_type": "stream",
     "text": [
      "Enter any number: 38\n",
      "Sum of integers of a is 11\n"
     ]
    }
   ],
   "source": [
    "a = int(input(\"Enter any number: \"))\n",
    "b = a % 10\n",
    "c = a// 10\n",
    "Sum_of_ints = b + c\n",
    "print(f'Sum of integers of a is {Sum_of_ints}')"
   ]
  },
  {
   "cell_type": "markdown",
   "metadata": {},
   "source": [
    "# 16. Decimal to binary Convertor"
   ]
  },
  {
   "cell_type": "code",
   "execution_count": 5,
   "metadata": {},
   "outputs": [
    {
     "name": "stdout",
     "output_type": "stream",
     "text": [
      "Enter a decimal number: 32\n",
      "Binary form of  32 is 0b100000\n"
     ]
    }
   ],
   "source": [
    "n = int(input(\"Enter a decimal number: \"))\n",
    "c = bin(n)\n",
    "print(\"Binary form of \", n, \"is\", c)"
   ]
  },
  {
   "cell_type": "code",
   "execution_count": 4,
   "metadata": {},
   "outputs": [
    {
     "name": "stdout",
     "output_type": "stream",
     "text": [
      "Enter a decimal number: 5\n",
      "Binary form of  5 is 0b101\n"
     ]
    }
   ],
   "source": [
    "n = int(input(\"Enter a decimal number: \"))\n",
    "c = bin(n)\n",
    "print(\"Binary form of \", n, \"is\", c)"
   ]
  },
  {
   "cell_type": "code",
   "execution_count": 11,
   "metadata": {},
   "outputs": [
    {
     "name": "stdout",
     "output_type": "stream",
     "text": [
      "1 0 0 0 0 0 "
     ]
    }
   ],
   "source": [
    "def binary(n):\n",
    "    \"\"\"Function to print binary number of Decimal number\n",
    "        by using recursion\"\"\"\n",
    "    if n>1:\n",
    "        binary(n//2)\n",
    "    print(n%2, end = ' ')\n",
    "binary(32)"
   ]
  },
  {
   "cell_type": "markdown",
   "metadata": {},
   "source": [
    "# 17. Binary to Decimal Convertor"
   ]
  },
  {
   "cell_type": "code",
   "execution_count": 14,
   "metadata": {},
   "outputs": [
    {
     "name": "stdout",
     "output_type": "stream",
     "text": [
      "Enter binary number for conversion 1101\n",
      "Decimal equivalent of  1101 is 13\n"
     ]
    }
   ],
   "source": [
    "n = input(\"Enter binary number for conversion \")\n",
    "c = int(n, 2)\n",
    "print(\"Decimal equivalent of \", n, \"is\", c)"
   ]
  },
  {
   "cell_type": "code",
   "execution_count": 15,
   "metadata": {},
   "outputs": [
    {
     "name": "stdout",
     "output_type": "stream",
     "text": [
      "Enter binary number for conversion 1001\n",
      "Decimal equivalent of  1001 is 9\n"
     ]
    }
   ],
   "source": [
    "n = input(\"Enter binary number for conversion \")\n",
    "c = int(n, 2)\n",
    "print(\"Decimal equivalent of \", n, \"is\", c)"
   ]
  },
  {
   "cell_type": "markdown",
   "metadata": {},
   "source": [
    "# 18. Vowel and Consonants Counter"
   ]
  },
  {
   "cell_type": "code",
   "execution_count": 29,
   "metadata": {},
   "outputs": [
    {
     "name": "stdout",
     "output_type": "stream",
     "text": [
      "vowels are  9\n",
      "Consonanats are  19\n"
     ]
    }
   ],
   "source": [
    "word = 'QuickBrownFoxJumpsoverTheDog'\n",
    "word1 = word.lower()\n",
    "Vowels = 0\n",
    "Consonants = 0\n",
    "for letter in word1:\n",
    "    if (letter == 'a'or letter == 'e' or letter == 'i' or letter == 'o'or letter == 'u'):\n",
    "        Vowels +=1\n",
    "    else:\n",
    "        Consonants += 1\n",
    "\n",
    "print(\"vowels are \", Vowels)\n",
    "print(\"Consonanats are \", Consonants)\n",
    "        \n",
    "    "
   ]
  },
  {
   "cell_type": "markdown",
   "metadata": {},
   "source": [
    "# 19.Palindrome Tester "
   ]
  },
  {
   "cell_type": "code",
   "execution_count": null,
   "metadata": {},
   "outputs": [],
   "source": [
    "my_str = input(\"Enter string: \")\n",
    "my_str = my_str.casefold()\n",
    "rev_str = reversed(my_str)\n",
    "if list(my_str) == list(rev_str):\n",
    "    print(f'Text {my_str} is palindrome')\n",
    "else:\n",
    "        print(f'Text {my_str} is not palindrome')\n",
    "          "
   ]
  },
  {
   "cell_type": "code",
   "execution_count": 32,
   "metadata": {},
   "outputs": [
    {
     "name": "stdout",
     "output_type": "stream",
     "text": [
      "Enter string: 'Hello'\n",
      "Text 'hello' is not palindrome\n"
     ]
    }
   ],
   "source": [
    "my_str = input(\"Enter string: \")\n",
    "my_str = my_str.casefold()\n",
    "rev_str = reversed(my_str)\n",
    "if list(my_str) == list(rev_str):\n",
    "    print(f'Text {my_str} is palindrome')\n",
    "else:\n",
    "        print(f'Text {my_str} is not palindrome')\n",
    "          "
   ]
  },
  {
   "cell_type": "markdown",
   "metadata": {},
   "source": [
    "# 20. Count Alphabets, Numbers and Special characters"
   ]
  },
  {
   "cell_type": "code",
   "execution_count": 34,
   "metadata": {},
   "outputs": [
    {
     "name": "stdout",
     "output_type": "stream",
     "text": [
      "Please Enter your own string 'Python 3.2'\n",
      "\n",
      " Total number of string in string are  6\n",
      "\n",
      " Total number of digits in string are  2\n",
      "\n",
      " Total number of spaces in string are  1\n",
      "\n",
      " Total number of special characters in string are  3\n"
     ]
    }
   ],
   "source": [
    "my_str = input(\"Please Enter your own string \")\n",
    "alphabets = digits = special = spaces = 0\n",
    "for i in range(len(my_str)):\n",
    "    if (my_str[i].isalpha()):\n",
    "        alphabets +=1\n",
    "    elif(my_str[i].isdigit()):\n",
    "        digits +=1\n",
    "    elif(my_str[i]. isspace()):\n",
    "        spaces +=1\n",
    "    else:\n",
    "        special +=1\n",
    "print(\"\\n Total number of string in string are \", alphabets)\n",
    "print(\"\\n Total number of digits in string are \" , digits)\n",
    "print(\"\\n Total number of spaces in string are \", spaces)\n",
    "print(\"\\n Total number of special characters in string are \", special)\n",
    "\n",
    "      "
   ]
  },
  {
   "cell_type": "markdown",
   "metadata": {},
   "source": [
    "# 21. Write a python program to draw followin pattern"
   ]
  },
  {
   "cell_type": "code",
   "execution_count": 7,
   "metadata": {},
   "outputs": [
    {
     "name": "stdout",
     "output_type": "stream",
     "text": [
      "*\n",
      "**\n",
      "***\n",
      "****\n",
      "*****\n",
      "****\n",
      "***\n",
      "**\n",
      "*\n",
      "\n"
     ]
    }
   ],
   "source": [
    "a = '*'\n",
    "for n in range(1,6):\n",
    "    print(a *n)\n",
    "\n",
    "a = \"*\"\n",
    "\n",
    "n = 5\n",
    "for i in range(1,6):\n",
    "    n = n-1\n",
    "    print(n*a)\n"
   ]
  },
  {
   "cell_type": "markdown",
   "metadata": {},
   "source": [
    "# 22. Write a python program for the following pattern"
   ]
  },
  {
   "cell_type": "code",
   "execution_count": 13,
   "metadata": {},
   "outputs": [
    {
     "name": "stdout",
     "output_type": "stream",
     "text": [
      "1 \n",
      "1 2 \n",
      "1 2 3 \n",
      "1 2 3 4 \n",
      "1 2 3 4 5 \n",
      "1 2 3 4 \n",
      "1 2 3 \n",
      "1 2 \n",
      "1 \n",
      "\n"
     ]
    }
   ],
   "source": [
    "x = 6\n",
    "for row in range (1, x):\n",
    "    for cols in range (1, row + 1):\n",
    "        print(cols, end = ' ')\n",
    "    print(\"\")\n",
    "\n",
    "x = 1\n",
    "for t in range(1,6):\n",
    "    for y in range(5,t,-1):\n",
    "        print(x, end = \" \")\n",
    "        x = x + 1\n",
    "    print(\"\")\n",
    "    x = 1\n",
    "    "
   ]
  },
  {
   "cell_type": "markdown",
   "metadata": {},
   "source": [
    "# 23. Write a python program to draw following pattern\n"
   ]
  },
  {
   "cell_type": "code",
   "execution_count": null,
   "metadata": {},
   "outputs": [],
   "source": []
  },
  {
   "cell_type": "code",
   "execution_count": 10,
   "metadata": {},
   "outputs": [
    {
     "name": "stdout",
     "output_type": "stream",
     "text": [
      "\n",
      "\n",
      "1\n",
      "\n",
      "22\n",
      "\n",
      "333\n",
      "\n",
      "4444\n",
      "\n",
      "55555\n",
      "\n",
      "666666\n",
      "\n",
      "7777777\n",
      "\n",
      "88888888\n",
      "\n",
      "999999999\n",
      "\n"
     ]
    }
   ],
   "source": [
    "for num in range(10):\n",
    "    for i in range(num):\n",
    "        print(num, end = \"\")\n",
    "    print(\"\\n\")"
   ]
  },
  {
   "cell_type": "code",
   "execution_count": 1,
   "metadata": {},
   "outputs": [
    {
     "data": {
      "text/plain": [
       "'C:\\\\Users\\\\DELL'"
      ]
     },
     "execution_count": 1,
     "metadata": {},
     "output_type": "execute_result"
    }
   ],
   "source": [
    "import os\n",
    "os.getcwd()"
   ]
  },
  {
   "cell_type": "code",
   "execution_count": null,
   "metadata": {},
   "outputs": [],
   "source": []
  }
 ],
 "metadata": {
  "kernelspec": {
   "display_name": "Python 3",
   "language": "python",
   "name": "python3"
  },
  "language_info": {
   "codemirror_mode": {
    "name": "ipython",
    "version": 3
   },
   "file_extension": ".py",
   "mimetype": "text/x-python",
   "name": "python",
   "nbconvert_exporter": "python",
   "pygments_lexer": "ipython3",
   "version": "3.7.4"
  }
 },
 "nbformat": 4,
 "nbformat_minor": 2
}
